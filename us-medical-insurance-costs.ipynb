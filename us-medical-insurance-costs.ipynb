{
 "cells": [
  {
   "cell_type": "code",
   "execution_count": null,
   "metadata": {},
   "outputs": [],
   "source": []
  },
  {
   "source": [
    "# U.S. Medical Insurance Costs"
   ],
   "cell_type": "code",
   "metadata": {},
   "execution_count": 1,
   "outputs": []
  },
  {
   "cell_type": "code",
   "execution_count": 2,
   "metadata": {
    "tags": []
   },
   "outputs": [],
   "source": [
    "# Create lists from the CSV data for averages\n",
    "import csv\n",
    "ages = []\n",
    "sexes = []\n",
    "bmis = []\n",
    "children = []\n",
    "smokers = []\n",
    "regions = []\n",
    "charges = []\n",
    "with open('insurance.csv', newline = '') as insurance_csv:\n",
    "    reader = csv.DictReader(insurance_csv)\n",
    "    for row in reader:\n",
    "        ages.append(int(row[\"age\"]))\n",
    "        sexes.append(str(row[\"sex\"]))\n",
    "        bmis.append(float(row[\"bmi\"]))\n",
    "        children.append(int(row[\"children\"]))\n",
    "        smokers.append(str(row[\"smoker\"]))\n",
    "        regions.append(str(row[\"region\"]))\n",
    "        charges.append(float(row[\"charges\"]))"
   ]
  },
  {
   "cell_type": "code",
   "execution_count": 3,
   "metadata": {
    "tags": []
   },
   "outputs": [],
   "source": [
    "#create a profile with an ID number\n",
    "id_numbers = list(range(1, len(ages), 1))\n",
    "\n",
    "medical_entries = list(zip(id_numbers, ages, sexes, bmis, children, smokers, regions, charges))\n",
    "\n",
    "medical_dict = {}\n",
    "\n",
    "for entry in medical_entries:\n",
    "    person = {}\n",
    "    person.update({\"ID\": entry[0], \"Age\": entry[1], \"Sex\": entry[2], \"BMI\": entry[3], \"Children\": entry[4], \"Smoker\": entry[5], \"Region\": entry[6], \"Charges\": entry[7]})\n",
    "\n",
    "    medical_dict.update({person[\"ID\"]: person})\n"
   ]
  },
  {
   "cell_type": "code",
   "execution_count": 4,
   "metadata": {},
   "outputs": [
    {
     "output_type": "stream",
     "name": "stdout",
     "text": [
      "39.21\n"
     ]
    }
   ],
   "source": [
    "#get average age\n",
    "\n",
    "def get_average_age(list_one):\n",
    "    average_age = round(sum(list_one) / len(list_one), 2)\n",
    "    print(average_age)\n",
    "\n",
    "get_average_age(ages)"
   ]
  },
  {
   "cell_type": "code",
   "execution_count": 5,
   "metadata": {
    "tags": []
   },
   "outputs": [
    {
     "output_type": "stream",
     "name": "stdout",
     "text": [
      "\n    People living in:\n        South East: 364\n        South West: 325\n        North East: 324\n        North West: 325\n    \n+-----+-------+\n| Age | Count |\n+-----+-------+\n|  18 |   69  |\n|  19 |   68  |\n|  20 |   29  |\n|  21 |   28  |\n|  22 |   28  |\n|  23 |   28  |\n|  24 |   28  |\n|  25 |   28  |\n|  26 |   28  |\n|  27 |   28  |\n|  28 |   28  |\n|  29 |   27  |\n|  30 |   27  |\n|  31 |   27  |\n|  32 |   26  |\n|  33 |   26  |\n|  34 |   26  |\n|  35 |   25  |\n|  36 |   25  |\n|  37 |   25  |\n|  38 |   25  |\n|  39 |   25  |\n|  40 |   27  |\n|  41 |   27  |\n|  42 |   27  |\n|  43 |   27  |\n|  44 |   27  |\n|  45 |   29  |\n|  46 |   29  |\n|  47 |   29  |\n|  48 |   29  |\n|  49 |   28  |\n|  50 |   29  |\n|  51 |   29  |\n|  52 |   29  |\n|  53 |   28  |\n|  54 |   28  |\n|  55 |   26  |\n|  56 |   26  |\n|  57 |   26  |\n|  58 |   25  |\n|  59 |   25  |\n|  60 |   23  |\n|  61 |   23  |\n|  62 |   23  |\n|  63 |   23  |\n|  64 |   22  |\n+-----+-------+\n"
     ]
    }
   ],
   "source": [
    "#get counts\n",
    "from prettytable import PrettyTable\n",
    "\n",
    "def get_regions_count(region_list):\n",
    "    southeast = []\n",
    "    southwest = []\n",
    "    northeast = []\n",
    "    northwest = []\n",
    "    for item in region_list:\n",
    "        if item == \"southeast\":\n",
    "            southeast.append(item)\n",
    "        elif item == \"southwest\":\n",
    "            southwest.append(item)\n",
    "        elif item == \"northeast\":\n",
    "            northeast.append(item)\n",
    "        else:\n",
    "            northwest.append(item)\n",
    "    print(\"\"\"\n",
    "    People living in:\n",
    "        South East: {count_se}\n",
    "        South West: {count_sw}\n",
    "        North East: {count_ne}\n",
    "        North West: {count_nw}\n",
    "    \"\"\".format(count_se=len(southeast), count_sw=len(southwest), count_ne=len(northeast), count_nw=len(northwest)))\n",
    "\n",
    "\n",
    "get_regions_count(regions)\n",
    "\n",
    "#get ages count\n",
    "\n",
    "def fill_age_dict():\n",
    "    t = PrettyTable([\"Age\", \"Count\"])\n",
    "    age_dict = {}\n",
    "    for age in ages:\n",
    "        if age in age_dict.keys():\n",
    "            age_dict[age] += 1\n",
    "        else:\n",
    "            age_dict.update({age: 1})\n",
    "    for key in sorted(age_dict):\n",
    "        t.add_row([key, age_dict.get(key)])\n",
    "    print(t)\n",
    "\n",
    "fill_age_dict()\n",
    "\n",
    "\n",
    "            "
   ]
  },
  {
   "cell_type": "code",
   "execution_count": 6,
   "metadata": {},
   "outputs": [
    {
     "output_type": "stream",
     "name": "stdout",
     "text": [
      "+-------------+------------+--------------+-------------+--------------+\n|    Group    | Total Cost | Average Cost | Lowest Cost | Highest Cost |\n+-------------+------------+--------------+-------------+--------------+\n|   Smokers   | 8752622.16 |   32060.89   |   12829.46  |   63770.43   |\n| Non-Smokers | 8974061.47 |   8434.27    |   1121.87   |   1121.87    |\n+-------------+------------+--------------+-------------+--------------+\n"
     ]
    }
   ],
   "source": [
    "def get_smokers():\n",
    "    t = PrettyTable([\"Group\", \"Total Cost\", \"Average Cost\", \"Lowest Cost\", \"Highest Cost\"])\n",
    "    smoker_cost_data = []\n",
    "    non_smoker_cost_data = []\n",
    "    for item in medical_dict.values():\n",
    "        smoker_status = item.get(\"Smoker\")\n",
    "        if smoker_status == \"yes\":\n",
    "            smoker_cost_data.append(item.get(\"Charges\"))\n",
    "        else:\n",
    "            non_smoker_cost_data.append(item.get(\"Charges\"))\n",
    "    smoker_cost = round(sum(smoker_cost_data), 2)\n",
    "    non_smoker_cost = round(sum(non_smoker_cost_data), 2)\n",
    "    smoker_avg_cost = round(smoker_cost / len(smoker_cost_data), 2)\n",
    "    non_smoker_avg_cost = round(non_smoker_cost / len(non_smoker_cost_data), 2)\n",
    "    smoker_lowest_cost = round(min(smoker_cost_data), 2)\n",
    "    smoker_highest_cost = round(max(smoker_cost_data), 2)\n",
    "    non_smoker_lowest_cost = round(min(non_smoker_cost_data), 2)\n",
    "    non_smoker_highest_cost = round(min(non_smoker_cost_data), 2)\n",
    "\n",
    "    t.add_row([\"Smokers\", smoker_cost, smoker_avg_cost, smoker_lowest_cost, smoker_highest_cost])\n",
    "    t.add_row([\"Non-Smokers\", non_smoker_cost, non_smoker_avg_cost, non_smoker_lowest_cost, non_smoker_highest_cost])\n",
    "    print(t)\n",
    "\n",
    "get_smokers()\n"
   ]
  },
  {
   "cell_type": "code",
   "execution_count": 7,
   "metadata": {},
   "outputs": [],
   "source": [
    "#get individual profiles\n",
    " \n",
    "\n",
    "patient_by_region = {}\n",
    "patient_by_age = {}\n",
    "patient_by_smoker_status = {}\n",
    "patient_by_bmi = {}\n",
    "patient_by_children = {}\n",
    "\n",
    "\n",
    "def sort_by_input(dict1, sort_key, dict_to_sort):\n",
    "  new_entry = {}\n",
    "  for key, value in dict1.items():\n",
    "    current_value = value.get(sort_key)\n",
    "    current_patient = value\n",
    "    if current_value in dict_to_sort:\n",
    "      dict_to_sort[current_value].append(current_patient)\n",
    "    else:\n",
    "      new_entry = [value]\n",
    "      dict_to_sort[current_value] = new_entry\n",
    "\n",
    "sort_by_input(medical_dict, \"Children\", patient_by_children)\n",
    "\n",
    "\n",
    "\n"
   ]
  },
  {
   "cell_type": "code",
   "execution_count": null,
   "metadata": {},
   "outputs": [],
   "source": []
  }
 ],
 "metadata": {
  "kernelspec": {
   "name": "python3",
   "display_name": "Python 3.7.3 64-bit",
   "metadata": {
    "interpreter": {
     "hash": "0600588c3b5f4418cbe7b5ebc6825b479f3bc010269d8b60d75058cdd010adfe"
    }
   }
  },
  "language_info": {
   "codemirror_mode": {
    "name": "ipython",
    "version": 3
   },
   "file_extension": ".py",
   "mimetype": "text/x-python",
   "name": "python",
   "nbconvert_exporter": "python",
   "pygments_lexer": "ipython3",
   "version": "3.7.3-final"
  }
 },
 "nbformat": 4,
 "nbformat_minor": 4
}